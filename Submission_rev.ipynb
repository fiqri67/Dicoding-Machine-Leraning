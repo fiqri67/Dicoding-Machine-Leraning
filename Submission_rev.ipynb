{
  "nbformat": 4,
  "nbformat_minor": 0,
  "metadata": {
    "colab": {
      "name": "Submission (1).ipynb",
      "provenance": [],
      "collapsed_sections": []
    },
    "kernelspec": {
      "name": "python3",
      "display_name": "Python 3"
    }
  },
  "cells": [
    {
      "cell_type": "code",
      "metadata": {
        "id": "wJnutPQV-Lh7",
        "colab_type": "code",
        "colab": {
          "base_uri": "https://localhost:8080/",
          "height": 204
        },
        "outputId": "298d56bc-23ae-403a-88d7-5cebc138e6dc"
      },
      "source": [
        "import tensorflow as tf\n",
        "import zipfile,os,shutil\n",
        "from tensorflow.keras.optimizers import RMSprop\n",
        "from tensorflow.keras.preprocessing.image import ImageDataGenerator\n",
        "\n",
        "!wget --no-check-certificate \\\n",
        "  https://dicodingacademy.blob.core.windows.net/picodiploma/ml_pemula_academy/rockpaperscissors.zip \\\n",
        "  -O rockpaperscissors.zip\n",
        "\n"
      ],
      "execution_count": 45,
      "outputs": [
        {
          "output_type": "stream",
          "text": [
            "--2020-06-30 14:55:45--  https://dicodingacademy.blob.core.windows.net/picodiploma/ml_pemula_academy/rockpaperscissors.zip\n",
            "Resolving dicodingacademy.blob.core.windows.net (dicodingacademy.blob.core.windows.net)... 52.239.197.36\n",
            "Connecting to dicodingacademy.blob.core.windows.net (dicodingacademy.blob.core.windows.net)|52.239.197.36|:443... connected.\n",
            "HTTP request sent, awaiting response... 200 OK\n",
            "Length: 322873683 (308M) [application/zip]\n",
            "Saving to: ‘rockpaperscissors.zip’\n",
            "\n",
            "rockpaperscissors.z 100%[===================>] 307.92M  17.4MB/s    in 13s     \n",
            "\n",
            "2020-06-30 14:55:58 (24.4 MB/s) - ‘rockpaperscissors.zip’ saved [322873683/322873683]\n",
            "\n"
          ],
          "name": "stdout"
        }
      ]
    },
    {
      "cell_type": "code",
      "metadata": {
        "id": "VPxXQmw1FK4E",
        "colab_type": "code",
        "colab": {}
      },
      "source": [
        "dataset='rockpaperscissors.zip'\n",
        "zip_ref = zipfile.ZipFile(dataset, 'r')\n",
        "zip_ref.extractall('Submission/')\n",
        "zip_ref.close()\n",
        "\n",
        "\n"
      ],
      "execution_count": 65,
      "outputs": []
    },
    {
      "cell_type": "code",
      "metadata": {
        "id": "DWcfxDS3zmw7",
        "colab_type": "code",
        "colab": {}
      },
      "source": [
        "os.makedirs(\"Submission/Training/paper\", exist_ok=True)\n",
        "os.makedirs(\"Submission/Training/scissors\", exist_ok=True)\n",
        "os.makedirs(\"Submission/Training/rock\", exist_ok=True)\n",
        "os.makedirs(\"Submission/Validasi/paper\", exist_ok=True)\n",
        "os.makedirs(\"Submission/Validasi/scissors\", exist_ok=True)\n",
        "os.makedirs(\"Submission/Validasi/rock\", exist_ok=True)\n",
        "os.listdir('Submission/Training')"
      ],
      "execution_count": null,
      "outputs": []
    },
    {
      "cell_type": "code",
      "metadata": {
        "id": "8HIuwoOg5n21",
        "colab_type": "code",
        "colab": {}
      },
      "source": [
        "#perbaikan logika pindah file\n",
        "data_utama = 'Submission/rockpaperscissors/'\n",
        "train_dir = 'Submission/Training/'\n",
        "validation = 'Submission/Validasi/'\n",
        "list_move = ['paper','rock','scissors']\n",
        "\n",
        "for nama in list_move : \n",
        "  data = os.listdir(data_utama+nama)\n",
        "  jumlah_data=len(data)\n",
        "  validasi_data =  (round(jumlah_data*0.2))#validasi 20%\n",
        "  for nama_file,file in enumerate(data) :\n",
        "     if nama_file <= validasi_data :\n",
        "         shutil.move(data_utama+nama+'/'+file,validation+nama)\n",
        "     else :\n",
        "         shutil.move(data_utama+nama+'/'+file,train_dir +nama)\n",
        "  "
      ],
      "execution_count": 67,
      "outputs": []
    },
    {
      "cell_type": "code",
      "metadata": {
        "id": "gAKGMCQ1549o",
        "colab_type": "code",
        "colab": {}
      },
      "source": [
        ""
      ],
      "execution_count": 64,
      "outputs": []
    },
    {
      "cell_type": "code",
      "metadata": {
        "id": "URzYCjHawqkX",
        "colab_type": "code",
        "colab": {}
      },
      "source": [
        "train_paper = os.path.join(train_dir,'paper')\n",
        "train_rock = os.path.join(train_dir,'rock')\n",
        "train_scissors=os.path.join(train_dir,'scissors')\n",
        "\n",
        "val_paper=os.path.join(validation,'paper')\n",
        "val_rock=os.path.join(validation,'rock')\n",
        "val_scissors=os.path.join(validation,'scissors')\n",
        "\n"
      ],
      "execution_count": 68,
      "outputs": []
    },
    {
      "cell_type": "code",
      "metadata": {
        "id": "uWZjpj2OyaN8",
        "colab_type": "code",
        "colab": {}
      },
      "source": [
        "train_datagen = ImageDataGenerator(\n",
        "                    rescale=1./255,\n",
        "                    rotation_range=20,\n",
        "                    horizontal_flip=True,\n",
        "                    shear_range = 0.2,\n",
        "                    fill_mode = 'nearest')\n",
        "\n",
        "test_datagen = ImageDataGenerator(\n",
        "                    rescale=1./255,\n",
        "                    rotation_range=20,\n",
        "                    horizontal_flip=True,\n",
        "                    shear_range = 0.2,\n",
        "                    fill_mode = 'nearest')"
      ],
      "execution_count": 69,
      "outputs": []
    },
    {
      "cell_type": "code",
      "metadata": {
        "id": "zfksGloCzqlK",
        "colab_type": "code",
        "colab": {
          "base_uri": "https://localhost:8080/",
          "height": 51
        },
        "outputId": "8a229bb2-cc86-4a29-90a7-49150c15553b"
      },
      "source": [
        "train_generator = train_datagen.flow_from_directory(\n",
        "        train_dir,  \n",
        "        target_size=(150, 150),  \n",
        "        batch_size=4,\n",
        "        class_mode='categorical')\n",
        "\n",
        "validation_generator = test_datagen.flow_from_directory(\n",
        "        validation, \n",
        "        target_size=(150, 150), \n",
        "        batch_size=4, \n",
        "        class_mode='categorical')"
      ],
      "execution_count": 72,
      "outputs": [
        {
          "output_type": "stream",
          "text": [
            "Found 1748 images belonging to 3 classes.\n",
            "Found 440 images belonging to 3 classes.\n"
          ],
          "name": "stdout"
        }
      ]
    },
    {
      "cell_type": "code",
      "metadata": {
        "id": "rfJGzFMrztKL",
        "colab_type": "code",
        "colab": {}
      },
      "source": [
        "model = tf.keras.models.Sequential([\n",
        "    tf.keras.layers.Conv2D(32, (3,3), activation='relu', input_shape=(150, 150, 3)),\n",
        "    tf.keras.layers.MaxPooling2D(2, 2),\n",
        "    tf.keras.layers.Conv2D(64, (3,3), activation='relu'),\n",
        "    tf.keras.layers.MaxPooling2D(2,2),\n",
        "    tf.keras.layers.Conv2D(128, (3,3), activation='relu'),\n",
        "    tf.keras.layers.MaxPooling2D(2,2),\n",
        "    tf.keras.layers.Conv2D(128, (3,3), activation='relu'),\n",
        "    tf.keras.layers.MaxPooling2D(2,2),\n",
        "    tf.keras.layers.Flatten(),\n",
        "    tf.keras.layers.Dense(512, activation='relu'),\n",
        "    tf.keras.layers.Dense(3, activation='softmax')\n",
        "])"
      ],
      "execution_count": 71,
      "outputs": []
    },
    {
      "cell_type": "code",
      "metadata": {
        "id": "Q8Zg2qjOz96d",
        "colab_type": "code",
        "colab": {}
      },
      "source": [
        "model.compile(loss='binary_crossentropy',\n",
        "              optimizer=tf.optimizers.Adam(),\n",
        "              metrics=['accuracy'])"
      ],
      "execution_count": 62,
      "outputs": []
    },
    {
      "cell_type": "code",
      "metadata": {
        "id": "S2ZUwU2Mz-yi",
        "colab_type": "code",
        "colab": {}
      },
      "source": [
        "model.fit(\n",
        "      train_generator,\n",
        "      steps_per_epoch=50,  \n",
        "      epochs=20,\n",
        "      validation_data=validation_generator,\n",
        "      validation_steps=5,  \n",
        "      verbose=2)"
      ],
      "execution_count": null,
      "outputs": []
    },
    {
      "cell_type": "code",
      "metadata": {
        "id": "aCnY6HID0JjP",
        "colab_type": "code",
        "colab": {}
      },
      "source": [
        "import numpy as np\n",
        "from google.colab import files\n",
        "from keras.preprocessing import image\n",
        "import matplotlib.pyplot as plt\n",
        "import matplotlib.image as mpimg\n",
        "import matplotlib.pyplot as plt\n",
        "import matplotlib.image as mpimg\n",
        "%matplotlib inline\n",
        "\n",
        "uploaded = files.upload()\n",
        "\n",
        "for file in uploaded.keys():\n",
        " \n",
        " \n",
        "  path = file\n",
        "  img = image.load_img(path, target_size=(150,150))\n",
        "  imgplot = plt.imshow(img)\n",
        "  x = image.img_to_array(img)\n",
        "  x = np.expand_dims(x, axis=0)\n",
        "\n",
        "  images = np.vstack([x])\n",
        "  classes = model.predict(images, batch_size=10)\n",
        "  result = np.argmax(classes)\n",
        "\n",
        "  if result==0:\n",
        "    print('paper')\n",
        "  elif result==1:\n",
        "    print('rock')\n",
        "  else :\n",
        "    print('scissors')"
      ],
      "execution_count": null,
      "outputs": []
    },
    {
      "cell_type": "code",
      "metadata": {
        "id": "JtOOQPBc7o9E",
        "colab_type": "code",
        "colab": {}
      },
      "source": [
        "shutil.rmtree('Submission') #untuk hapus dir (jangan di run jika tidak butuh)"
      ],
      "execution_count": null,
      "outputs": []
    }
  ]
}